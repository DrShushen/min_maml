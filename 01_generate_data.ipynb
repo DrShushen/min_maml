{
 "cells": [
  {
   "cell_type": "code",
   "execution_count": null,
   "metadata": {},
   "outputs": [],
   "source": [
    "import numpy as np\n",
    "import matplotlib.pyplot as plt\n",
    "\n",
    "import IPython.display as disp\n",
    "\n",
    "import itertools\n",
    "import os"
   ]
  },
  {
   "cell_type": "code",
   "execution_count": null,
   "metadata": {},
   "outputs": [],
   "source": [
    "def generate_sinusoidal(A=1.0, w=1.0, phi=0.0, c=0.0, x_shift=0.0, N=25, plot=True):\n",
    "    # Generate a curve of form y = A*sin(w*x + phi) + c for N x values linearly spaced in [0 + shift, 2*pi + shift]\n",
    "    \n",
    "    x = np.linspace(0 + x_shift, 2*np.pi + x_shift, N)\n",
    "    y = A*np.sin(w*x + phi) + c\n",
    "\n",
    "    if plot:\n",
    "        # Plot a smooth line for visualisation.\n",
    "        x_ = np.linspace(0 + x_shift, 2*np.pi + x_shift, 500)\n",
    "        y_ = A*np.sin(w*x_ + phi) + c\n",
    "        plt.plot(x_, y_)\n",
    "        \n",
    "        # Plot data.\n",
    "        plt.scatter(x, y)\n",
    "    \n",
    "    return x, y"
   ]
  },
  {
   "cell_type": "code",
   "execution_count": null,
   "metadata": {},
   "outputs": [],
   "source": [
    "x, y = generate_sinusoidal(A=1.0, w=1.0, phi=0.0, x_shift=0.0, c=0.0, plot=True)"
   ]
  },
  {
   "cell_type": "code",
   "execution_count": null,
   "metadata": {},
   "outputs": [],
   "source": [
    "def generate_data(A_s, w_s, phi_s, c_s, x_shifts, plot=True, title=\"Generated Curves\"):\n",
    "    # Generate the curves based on all the combinations of A_s, w_s, phi_s, c_s, x_shifts.\n",
    "\n",
    "    prod = itertools.product(A_s, w_s, phi_s, c_s)\n",
    "\n",
    "    plt.figure(figsize=(25, 10), dpi=70)\n",
    "    arrdict = dict()\n",
    "\n",
    "    for idx, (A, w, phi, c) in enumerate(prod):\n",
    "        x, y = generate_sinusoidal(A=A, w=w, phi=phi, c=c, x_shift=x_shifts[idx], plot=True)\n",
    "        xname = \"x_{}\".format(idx)\n",
    "        yname = \"y_{}\".format(idx)\n",
    "        arrdict[xname] = x\n",
    "        arrdict[yname] = y\n",
    "    \n",
    "    if plot:\n",
    "        plt.title(title)\n",
    "        plt.xlabel(\"x\")\n",
    "        plt.ylabel(\"y\")\n",
    "    \n",
    "    return arrdict"
   ]
  },
  {
   "cell_type": "code",
   "execution_count": null,
   "metadata": {},
   "outputs": [],
   "source": [
    "def generate_and_save_datasets(data_root=\"./data\"):\n",
    "\n",
    "    # Make directory.\n",
    "    data_root_realpath = os.path.realpath(data_root)\n",
    "    if not os.path.exists(data_root_realpath):\n",
    "        os.makedirs(data_root_realpath)\n",
    "\n",
    "    # Meta-train dataset.\n",
    "\n",
    "    A_s = (0.2, 1.0, 2.5, 5.0)\n",
    "    w_s = (0.25*np.pi, 1.0, 3.0*np.pi)\n",
    "    phi_s = (-0.5*np.pi, 1.0, 2.0*np.pi)\n",
    "    c_s = (-2.0, 0.0, 4.0)\n",
    "\n",
    "    np.random.seed(12345)\n",
    "    n_combs = len(A_s) * len(w_s) * len(phi_s) * len(c_s)\n",
    "    x_shifts = np.random.randn(n_combs) * 2*np.pi\n",
    "\n",
    "    arrdict = generate_data(A_s, w_s, phi_s, c_s, x_shifts, plot=True, title=\"Generated Curves: Meta-train\")\n",
    "\n",
    "    data_path_meta_train = os.path.realpath(os.path.join(data_root, \"data_curves_meta-train.npz\"))\n",
    "    np.savez(data_path_meta_train, **arrdict)\n",
    "\n",
    "    # Meta-test dataset.\n",
    "\n",
    "    A_s = (0.8, 4.3)\n",
    "    w_s = (0.5*np.pi, 1.3*np.pi, 2.3*np.pi)\n",
    "    phi_s = (-0.3*np.pi, 1.2*np.pi, 4.3*np.pi)\n",
    "    c_s = (-1.5, 2.0)\n",
    "\n",
    "    np.random.seed(54321)\n",
    "    n_combs = len(A_s) * len(w_s) * len(phi_s) * len(c_s)\n",
    "    x_shifts = np.random.randn(n_combs) * 2*np.pi\n",
    "\n",
    "    arrdict = generate_data(A_s, w_s, phi_s, c_s, x_shifts, plot=True, title=\"Generated Curves: Meta-test\")\n",
    "\n",
    "    data_path_meta_test = os.path.realpath(os.path.join(data_root, \"data_curves_meta-test.npz\"))\n",
    "    np.savez(data_path_meta_test, **arrdict)\n",
    "    \n",
    "    return data_path_meta_train, data_path_meta_test"
   ]
  },
  {
   "cell_type": "code",
   "execution_count": null,
   "metadata": {},
   "outputs": [],
   "source": [
    "# Generate and save the dataasets.\n",
    "data_path_meta_train, data_path_meta_test = generate_and_save_datasets()"
   ]
  },
  {
   "cell_type": "code",
   "execution_count": null,
   "metadata": {},
   "outputs": [],
   "source": [
    "def load_data(data_path):\n",
    "    data = np.load(data_path)\n",
    "    names = data.files\n",
    "    l = len(names) // 2\n",
    "    x, y = dict(), dict()\n",
    "    for idx in range(l):\n",
    "        x_key = \"x_{}\".format(idx)\n",
    "        y_key = \"y_{}\".format(idx)\n",
    "        x[idx] = data[x_key]\n",
    "        y[idx] = data[y_key]\n",
    "    return x, y"
   ]
  },
  {
   "cell_type": "code",
   "execution_count": null,
   "metadata": {},
   "outputs": [],
   "source": [
    "# Check data loads in correctly.\n",
    "\n",
    "x, y = load_data(data_path_meta_train)\n",
    "print(\"Meta-train:\")\n",
    "print(\"len(x) = {}\".format(len(x)))\n",
    "print(\"len(y) = {}\".format(len(y)))\n",
    "print(\"@ key 3:\\nx={}, y={}\\n\".format(x[3], y[3]))\n",
    "\n",
    "x, y = load_data(data_path_meta_test)\n",
    "print(\"Meta-test:\")\n",
    "print(\"len(x) = {}\".format(len(x)))\n",
    "print(\"len(y) = {}\".format(len(y)))\n",
    "print(\"@ key 3:\\nx={}, y={}\\n\".format(x[3], y[3]))"
   ]
  }
 ],
 "metadata": {
  "kernelspec": {
   "display_name": "Python [conda env:py37_min_maml]",
   "language": "python",
   "name": "conda-env-py37_min_maml-py"
  },
  "language_info": {
   "codemirror_mode": {
    "name": "ipython",
    "version": 3
   },
   "file_extension": ".py",
   "mimetype": "text/x-python",
   "name": "python",
   "nbconvert_exporter": "python",
   "pygments_lexer": "ipython3",
   "version": "3.7.5"
  }
 },
 "nbformat": 4,
 "nbformat_minor": 4
}
