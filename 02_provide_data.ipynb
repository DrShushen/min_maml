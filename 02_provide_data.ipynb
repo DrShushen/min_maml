{
 "cells": [
  {
   "cell_type": "code",
   "execution_count": 1,
   "metadata": {},
   "outputs": [],
   "source": [
    "import numpy as np\n",
    "import matplotlib.pyplot as plt\n",
    "import torch\n",
    "\n",
    "import os\n",
    "import contextlib\n",
    "\n",
    "from data import load_data"
   ]
  },
  {
   "cell_type": "code",
   "execution_count": 2,
   "metadata": {},
   "outputs": [],
   "source": [
    "# Train / test splitter for each item inside the meta dataset.\n",
    "\n",
    "@contextlib.contextmanager\n",
    "def temp_np_seed(seed):\n",
    "    state = np.random.get_state()\n",
    "    np.random.seed(seed)\n",
    "    try:\n",
    "        yield\n",
    "    finally:\n",
    "        np.random.set_state(state)\n",
    "\n",
    "class TrainTestSplitter(object):\n",
    "    # Train / test splitter for each item inside the meta dataset.\n",
    "    \n",
    "    def __init__(self, test_frac=0.4, seed=12345):\n",
    "        self.seed = seed\n",
    "        self.test_frac = test_frac\n",
    "        self.train_frac = 1 - test_frac\n",
    "    \n",
    "    def __call__(self, dataset):\n",
    "        length = len(dataset)\n",
    "        train_end_idx = int(np.floor(length * self.train_frac))\n",
    "        indices = np.array(range(length))\n",
    "        with temp_np_seed(self.seed):\n",
    "            np.random.shuffle(indices)\n",
    "        train_indices = indices[:train_end_idx]\n",
    "        test_indices = indices[train_end_idx:]\n",
    "        return np.take(dataset, train_indices), np.take(dataset, test_indices)\n",
    "    \n",
    "tts = TrainTestSplitter(test_frac=0.4)"
   ]
  },
  {
   "cell_type": "code",
   "execution_count": 3,
   "metadata": {},
   "outputs": [],
   "source": [
    "# Meta Dataset.\n",
    "\n",
    "class CurveTasks(torch.utils.data.Dataset):\n",
    "    # Meta Dataset.\n",
    "    \n",
    "    def __init__(self, train_test_splitter, data_root=\"./data\", meta_train=True):\n",
    "        if meta_train:\n",
    "            data_path = os.path.realpath(os.path.join(data_root, \"data_curves_meta-train.npz\"))\n",
    "        else:\n",
    "            data_path = os.path.realpath(os.path.join(data_root, \"data_curves_meta-test.npz\"))\n",
    "        self.x, self.y = load_data(data_path)\n",
    "        self.train_test_splitter = train_test_splitter\n",
    "    \n",
    "    def __getitem__(self, key):\n",
    "        x_train, x_test = self.train_test_splitter(self.x[key])\n",
    "        y_train, y_test = self.train_test_splitter(self.y[key])\n",
    "        return (x_train, y_train), (x_test, y_test)\n",
    "    \n",
    "    def __len__(self):\n",
    "        return len(self.x)\n",
    "\n",
    "curves_meta_train = CurveTasks(train_test_splitter=tts, meta_train=True)\n",
    "curves_meta_test = CurveTasks(train_test_splitter=tts, meta_train=False)"
   ]
  },
  {
   "cell_type": "code",
   "execution_count": 4,
   "metadata": {},
   "outputs": [],
   "source": [
    "# Random sampler for the meta dataset.\n",
    "random_sampler_curves_meta_train = torch.utils.data.RandomSampler(curves_meta_train, replacement=False)\n",
    "random_sampler_curves_meta_test = torch.utils.data.RandomSampler(curves_meta_test, replacement=False)"
   ]
  },
  {
   "cell_type": "code",
   "execution_count": 5,
   "metadata": {},
   "outputs": [],
   "source": [
    "# DataLoader for the meta dataset.\n",
    "data_loader_curves_meta_train = torch.utils.data.DataLoader(curves_meta_train, sampler=random_sampler_curves_meta_train)\n",
    "data_loader_curves_meta_test = torch.utils.data.DataLoader(curves_meta_test, sampler=random_sampler_curves_meta_test)"
   ]
  },
  {
   "cell_type": "code",
   "execution_count": 6,
   "metadata": {},
   "outputs": [
    {
     "name": "stdout",
     "output_type": "stream",
     "text": [
      "train length = 15\n",
      "test length = 10\n"
     ]
    },
    {
     "data": {
      "image/png": "[encoded data removed]",
      "text/plain": [
       "<Figure size 432x288 with 1 Axes>"
      ]
     },
     "metadata": {
      "needs_background": "light"
     },
     "output_type": "display_data"
    },
    {
     "data": {
      "image/png": "[encoded data removed]",
      "text/plain": [
       "<Figure size 432x288 with 1 Axes>"
      ]
     },
     "metadata": {
      "needs_background": "light"
     },
     "output_type": "display_data"
    },
    {
     "data": {
      "image/png": "[encoded data removed]",
      "text/plain": [
       "<Figure size 432x288 with 1 Axes>"
      ]
     },
     "metadata": {
      "needs_background": "light"
     },
     "output_type": "display_data"
    }
   ],
   "source": [
    "# Display some example meta datasets as you iterate through the DataLoader.\n",
    "\n",
    "torch.manual_seed(42)\n",
    "\n",
    "for idx, ((x_train, y_train), (x_test, y_test)) in enumerate(data_loader_curves_meta_train):\n",
    "    if idx in (0, 4, 9):\n",
    "        fig = plt.figure()\n",
    "        plt.scatter(x_train.numpy(), y_train.numpy(), label=\"train\")\n",
    "        plt.scatter(x_test.numpy(), y_test.numpy(), label=\"test\")\n",
    "        plt.legend()\n",
    "        if idx == 0:\n",
    "            print(\"train length = {}\".format(x_train.numpy().shape[1]))\n",
    "            print(\"test length = {}\".format(x_test.numpy().shape[1]))"
   ]
  }
 ],
 "metadata": {
  "kernelspec": {
   "display_name": "Python [conda env:py37_min_maml]",
   "language": "python",
   "name": "conda-env-py37_min_maml-py"
  },
  "language_info": {
   "codemirror_mode": {
    "name": "ipython",
    "version": 3
   },
   "file_extension": ".py",
   "mimetype": "text/x-python",
   "name": "python",
   "nbconvert_exporter": "python",
   "pygments_lexer": "ipython3",
   "version": "3.7.5"
  }
 },
 "nbformat": 4,
 "nbformat_minor": 4
}
